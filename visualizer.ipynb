{
 "cells": [
  {
   "cell_type": "code",
   "execution_count": null,
   "metadata": {},
   "outputs": [],
   "source": [
    "import data_processor_multi_processing as processor\n",
    "import plotter\n",
    "from data_service import DataService"
   ]
  },
  {
   "cell_type": "code",
   "execution_count": null,
   "metadata": {},
   "outputs": [],
   "source": [
    "def get_ranges(symbol, list_of_dataframes):\n",
    "    symbol = symbol.split(\"-\")[0]\n",
    "    range_max = float('-inf')\n",
    "    range_min = float('inf')\n",
    "    \n",
    "    for df in list_of_dataframes:\n",
    "        # Get the high and low columns for the symbol\n",
    "        high_col = f\"high ({symbol})\"\n",
    "        low_col = f\"low ({symbol})\"\n",
    "        \n",
    "        if high_col in df and low_col in df:\n",
    "            # Update range_max and range_min\n",
    "            range_max = max(range_max, df[high_col].max())\n",
    "            range_min = min(range_min, df[low_col].min())\n",
    "    \n",
    "\n",
    "    return range_min, range_max\n",
    "\n",
    "\n",
    "def replace_cols_with_scaled_cols(samples, selected_scaler='StandardScaler'):\n",
    "    for s in samples:\n",
    "        new_dataframe = processor.scale_and_cleanup_dataframe(s['dataframe'])\n",
    "        new_sample = {\n",
    "            'timestamp': s['timestamp'],\n",
    "            'label': s['label'],\n",
    "            'dataframe': new_dataframe\n",
    "        }\n",
    "        s = new_sample\n",
    "    return samples"
   ]
  },
  {
   "cell_type": "code",
   "execution_count": null,
   "metadata": {},
   "outputs": [],
   "source": [
    "ds = DataService()\n",
    "# ds.delete_all_collections()\n",
    "collections = ds.get_all_collection_names()\n",
    "\n",
    "for i, collection in enumerate(collections):\n",
    "    print(i, collection)"
   ]
  },
  {
   "cell_type": "code",
   "execution_count": null,
   "metadata": {},
   "outputs": [],
   "source": [
    "collection = 6\n",
    "data = ds.get_dataframes_as_dicts(collection_name=collections[collection])"
   ]
  },
  {
   "cell_type": "code",
   "execution_count": null,
   "metadata": {},
   "outputs": [],
   "source": [
    "import pandas as pd\n",
    "\n",
    "def check_timestamps(timestamps):\n",
    "    # Convert to pandas datetime if not already\n",
    "    if not isinstance(timestamps, pd.Series):\n",
    "        timestamps = pd.Series(timestamps)\n",
    "    timestamps = pd.to_datetime(timestamps)\n",
    "    \n",
    "    # Check if timestamps are in ascending order\n",
    "    ascending = timestamps.is_monotonic_increasing\n",
    "    \n",
    "    # Calculate time differences between consecutive timestamps\n",
    "    time_diffs = timestamps.diff().dt.total_seconds()\n",
    "    \n",
    "    # Check for gaps greater than 3 minutes (180 seconds)\n",
    "    gaps = time_diffs[1:] > 180  # Skip the first NaN value\n",
    "    \n",
    "    has_gaps = gaps.any()\n",
    "    \n",
    "    # Result\n",
    "    return {\n",
    "        'ascending': ascending,\n",
    "        'has_gaps': has_gaps,\n",
    "        'gaps_indices': gaps[gaps].index.tolist()  # Indices of gaps if any\n",
    "    }"
   ]
  },
  {
   "cell_type": "code",
   "execution_count": null,
   "metadata": {},
   "outputs": [],
   "source": [
    "timestamps = pd.Series([s['timestamp'] for s in data])\n",
    "checks = check_timestamps(timestamps)\n",
    "if checks['ascending'] == False or checks['has_gaps']:\n",
    "    raise "
   ]
  },
  {
   "cell_type": "code",
   "execution_count": null,
   "metadata": {},
   "outputs": [],
   "source": [
    "def split_list(data, fractions):\n",
    "    \"\"\"\n",
    "    Splits a list of dictionaries into 3 segments based on given fractions.\n",
    "\n",
    "    Parameters:\n",
    "    data (list): List of dictionaries to be split.\n",
    "    fractions (list): List of 3 fractions representing the relative sizes of the segments.\n",
    "\n",
    "    Returns:\n",
    "    tuple: Three lists of dictionaries, each representing a segment.\n",
    "    \"\"\"\n",
    "    if len(fractions) != 3:\n",
    "        raise ValueError(\"Fractions list must contain exactly 3 elements.\")\n",
    "    \n",
    "    if sum(fractions) != 1:\n",
    "        raise ValueError(\"Fractions must sum to 1.\")\n",
    "    \n",
    "    # Calculate the number of items in each segment\n",
    "    total_length = len(data)\n",
    "    lengths = [int(total_length * fraction) for fraction in fractions]\n",
    "\n",
    "    # Adjust the lengths to ensure they sum up to the total length\n",
    "    while sum(lengths) < total_length:\n",
    "        lengths[lengths.index(min(lengths))] += 1\n",
    "    \n",
    "    # Create the segments\n",
    "    segment1 = data[:lengths[0]]\n",
    "    segment2 = data[lengths[0]:lengths[0] + lengths[1]]\n",
    "    segment3 = data[lengths[0] + lengths[1]:]\n",
    "\n",
    "    return segment1, segment2, segment3\n"
   ]
  },
  {
   "cell_type": "code",
   "execution_count": null,
   "metadata": {},
   "outputs": [],
   "source": [
    "train, val, test = split_list(data, fractions=\n",
    "                              [\n",
    "                                  0.8, 0.1, 0.1\n",
    "                              ])"
   ]
  },
  {
   "cell_type": "code",
   "execution_count": null,
   "metadata": {},
   "outputs": [],
   "source": [
    "def check_temporal_order(train, val, test):\n",
    "    \"\"\"\n",
    "    Checks if the train, val, and test lists of dictionaries are temporally separated and in the correct order.\n",
    "\n",
    "    Parameters:\n",
    "    train (list): List of dictionaries for the training set.\n",
    "    val (list): List of dictionaries for the validation set.\n",
    "    test (list): List of dictionaries for the test set.\n",
    "\n",
    "    Returns:\n",
    "    bool: True if all sets are temporally separated and in the correct order, False otherwise.\n",
    "    \"\"\"\n",
    "    # Convert timestamps to pandas datetime objects\n",
    "    train_timestamps = pd.to_datetime([d['timestamp'] for d in train])\n",
    "    val_timestamps = pd.to_datetime([d['timestamp'] for d in val])\n",
    "    test_timestamps = pd.to_datetime([d['timestamp'] for d in test])\n",
    "    \n",
    "    # Check if timestamps are in ascending order within each set\n",
    "    if not (train_timestamps.is_monotonic_increasing and val_timestamps.is_monotonic_increasing and test_timestamps.is_monotonic_increasing):\n",
    "        return False\n",
    "    \n",
    "    # Check if train, val, and test sets are temporally separated\n",
    "    if train_timestamps.max() >= val_timestamps.min() or val_timestamps.max() >= test_timestamps.min():\n",
    "        return False\n",
    "    \n",
    "    return True"
   ]
  },
  {
   "cell_type": "code",
   "execution_count": null,
   "metadata": {},
   "outputs": [],
   "source": [
    "check = check_temporal_order(train, val, test)\n",
    "if check == False:\n",
    "    raise"
   ]
  },
  {
   "cell_type": "code",
   "execution_count": null,
   "metadata": {},
   "outputs": [],
   "source": [
    "print(train)"
   ]
  },
  {
   "cell_type": "code",
   "execution_count": null,
   "metadata": {},
   "outputs": [],
   "source": [
    "dataframes = [s['dataframe'] for s in train]\n",
    "range_min, range_max = get_ranges(\"ETH-USDT\", dataframes)\n",
    "range_min_2, range_max_2 = get_ranges(\"BTC-USDT\", dataframes)"
   ]
  },
  {
   "cell_type": "code",
   "execution_count": null,
   "metadata": {},
   "outputs": [],
   "source": [
    "for dataset in [train, val, test]:\n",
    "    for sample in dataset:\n",
    "        plot = plotter.create_minimal_candlestick_plot(sample['dataframe'], 'ETH', 'BTC', \n",
    "        plotter.save_plot(plot, collection, sample['timestamp'])"
   ]
  }
 ],
 "metadata": {
  "kernelspec": {
   "display_name": "hft-2GmTtn1u",
   "language": "python",
   "name": "python3"
  },
  "language_info": {
   "codemirror_mode": {
    "name": "ipython",
    "version": 3
   },
   "file_extension": ".py",
   "mimetype": "text/x-python",
   "name": "python",
   "nbconvert_exporter": "python",
   "pygments_lexer": "ipython3",
   "version": "3.12.3"
  }
 },
 "nbformat": 4,
 "nbformat_minor": 2
}
