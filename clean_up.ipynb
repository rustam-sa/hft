{
 "cells": [
  {
   "cell_type": "code",
   "execution_count": 1,
   "metadata": {},
   "outputs": [],
   "source": [
    "from data_service import DataService"
   ]
  },
  {
   "cell_type": "code",
   "execution_count": 2,
   "metadata": {},
   "outputs": [
    {
     "name": "stdout",
     "output_type": "stream",
     "text": [
      "Duplicate collections: ['ETH-USDT_with_BTC_45_previous_candles_TEST']\n",
      "Duplicate collections removed.\n"
     ]
    }
   ],
   "source": [
    "ds = DataService(\"ETH-USDT\", \"3min\")\n",
    "duplicates = ds.remove_duplicate_collections()"
   ]
  }
 ],
 "metadata": {
  "kernelspec": {
   "display_name": "hft-2GmTtn1u",
   "language": "python",
   "name": "python3"
  },
  "language_info": {
   "codemirror_mode": {
    "name": "ipython",
    "version": 3
   },
   "file_extension": ".py",
   "mimetype": "text/x-python",
   "name": "python",
   "nbconvert_exporter": "python",
   "pygments_lexer": "ipython3",
   "version": "3.12.3"
  }
 },
 "nbformat": 4,
 "nbformat_minor": 2
}
